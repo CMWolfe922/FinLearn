{
 "cells": [
  {
   "cell_type": "code",
   "execution_count": 2,
   "metadata": {},
   "outputs": [],
   "source": [
    "from cv2 import AGAST_FEATURE_DETECTOR_AGAST_5_8\n",
    "from src.getter import Get\n",
    "import os\n",
    "from models.sqliteModels import generate_symbols\n"
   ]
  },
  {
   "cell_type": "code",
   "execution_count": 3,
   "metadata": {},
   "outputs": [],
   "source": [
    "symbol = generate_symbols()"
   ]
  },
  {
   "cell_type": "code",
   "execution_count": 4,
   "metadata": {},
   "outputs": [
    {
     "name": "stdout",
     "output_type": "stream",
     "text": [
      "[+] Queried Symbols\n"
     ]
    }
   ],
   "source": [
    "stocks = []\n",
    "c = 0\n",
    "while c < 100:\n",
    "    stock = next(symbol)\n",
    "    stocks.append(stock)\n",
    "    c += 1"
   ]
  },
  {
   "cell_type": "code",
   "execution_count": 7,
   "metadata": {},
   "outputs": [],
   "source": [
    "s = []\n",
    "for i in range(100):\n",
    "    stock = next(symbol)\n",
    "    s.append(stock)"
   ]
  },
  {
   "cell_type": "code",
   "execution_count": 9,
   "metadata": {},
   "outputs": [],
   "source": [
    "stocks = [next(symbol) for i in range(100)]\n"
   ]
  },
  {
   "cell_type": "code",
   "execution_count": 10,
   "metadata": {},
   "outputs": [
    {
     "name": "stdout",
     "output_type": "stream",
     "text": [
      "['ASA', 'ASAI', 'ASAN', 'ASAQ', 'ASB', 'ASC', 'ASG', 'ASGI', 'ASGN', 'ASH', 'ASIX', 'ASPN', 'ASR', 'ASX', 'ASZ', 'ATA', 'ATAQ', 'ATC', 'ATCO', 'ATE', 'ATEK', 'ATEN', 'ATGE', 'ATH', 'ATHM', 'ATI', 'ATIP', 'ATKR', 'ATO', 'ATR', 'ATTO', 'ATUS', 'AU', 'AUD', 'AUS', 'AUY', 'AVA', 'AVAL', 'AVAN', 'AVB', 'AVD', 'AVK', 'AVLR', 'AVNS', 'AVNT', 'AVT', 'AVTR', 'AVY', 'AVYA', 'AWF', 'AWI', 'AWK', 'AWP', 'AWR', 'AX', 'AXA', 'AXH', 'AXL', 'AXP', 'AXR', 'AXS', 'AXTA', 'AYI', 'AYX', 'AZEK', 'AZO', 'AZRE', 'AZUL', 'AZZ', 'B', 'BA', 'BABA', 'BAC', 'BACA', 'BAH', 'BAK', 'BALY', 'BAM', 'BAMH', 'BAMR', 'BANC', 'BAP', 'BAR', 'BARK', 'BAX', 'BB', 'BBA', 'BBAR', 'BBD', 'BBDC', 'BBL', 'BBLN', 'BBN', 'BBU', 'BBUC', 'BBVA', 'BBW', 'BBWI', 'BBY', 'BC']\n"
     ]
    }
   ],
   "source": [
    "print(s2)"
   ]
  },
  {
   "cell_type": "code",
   "execution_count": null,
   "metadata": {},
   "outputs": [],
   "source": [
    "stocks = []\n",
    "c = 0\n",
    "while c < 100:\n",
    "    stock = next(symbol)\n",
    "    stocks.append(stock)\n",
    "    c += 1\n"
   ]
  },
  {
   "cell_type": "code",
   "execution_count": null,
   "metadata": {},
   "outputs": [],
   "source": [
    "# create the quote_df to pass to the already created functions\n",
    "print(f\"[1.3] Retrieve data from DataFrame's symbol column\")\n",
    "_stocks = companies_df[\"symbol\"]\n",
    "\n",
    "# #####################################################################\n",
    "# CREATE COMPANIES LIST:\n",
    "#####################################################################\n",
    "# --->[6] Create Chunked list\n",
    "stock_chunks = list(get.chunks(list(set(_stocks)), 200))\n",
    "\n",
    "# Give quote and fundamental data an variable to save to:\n",
    "# Get Quote Data\n",
    "print(\"[3] Retrieve Quote and Fundamental data..\")\n",
    "quote_data = pd.concat([get.quotes(each) for each in stock_chunks])\n",
    "print(\"[3.1] Quote Data Retrieved\")\n",
    "\n",
    "# Get Fundamental Data\n",
    "fundamental_data = pd.concat([get.fundamentals(each)\n",
    "                              for each in stock_chunks])\n",
    "print(\"[3.2] Fundamental Data Retrieved\")\n",
    "\n",
    "print(\"[4] Insert Quote and Fundamental Data\")\n",
    "# Insert the fundamental and quote data to the database:\n",
    "insert_quote_and_fundamental_data(quote_data=quote_data,\n",
    "                                  fundamental_data=fundamental_data, db=db)\n",
    "\n",
    "# print(quote_data)\n"
   ]
  }
 ],
 "metadata": {
  "interpreter": {
   "hash": "33f8b86f6ea24104ebb24fd2073e650abb80fd24594e896fe068d7ba286468e3"
  },
  "kernelspec": {
   "display_name": "Python 3.8.10 ('mlenv')",
   "language": "python",
   "name": "python3"
  },
  "language_info": {
   "codemirror_mode": {
    "name": "ipython",
    "version": 3
   },
   "file_extension": ".py",
   "mimetype": "text/x-python",
   "name": "python",
   "nbconvert_exporter": "python",
   "pygments_lexer": "ipython3",
   "version": "3.8.10"
  },
  "orig_nbformat": 4
 },
 "nbformat": 4,
 "nbformat_minor": 2
}
