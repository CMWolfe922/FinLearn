{
 "cells": [
  {
   "cell_type": "code",
   "execution_count": 18,
   "metadata": {},
   "outputs": [
    {
     "name": "stderr",
     "output_type": "stream",
     "text": [
      "c:\\Users\\charl\\OneDrive\\dev\\source\\finlearn\\src\\getter.py:101: FutureWarning: The frame.append method is deprecated and will be removed from pandas in a future version. Use pandas.concat instead.\n",
      "  _companies_df = NYSE_df.append(NASDAQ_df)\n",
      "c:\\Users\\charl\\OneDrive\\dev\\source\\finlearn\\src\\getter.py:102: FutureWarning: The frame.append method is deprecated and will be removed from pandas in a future version. Use pandas.concat instead.\n",
      "  _companies_df = _companies_df.append(AMEX_df)\n",
      "c:\\Users\\charl\\OneDrive\\dev\\source\\finlearn\\src\\getter.py:103: FutureWarning: The frame.append method is deprecated and will be removed from pandas in a future version. Use pandas.concat instead.\n",
      "  _companies_df = _companies_df.append(OTCBB_df)\n"
     ]
    }
   ],
   "source": [
    "from cv2 import AGAST_FEATURE_DETECTOR_AGAST_5_8\n",
    "from src.getter import Get\n",
    "from models.sqliteModels import _insert_companies\n",
    "import os\n",
    "\n",
    "# create a Get object\n",
    "get = Get()\n",
    "\n",
    "# run if name == main script\n",
    "df = get.companies_df()"
   ]
  },
  {
   "cell_type": "code",
   "execution_count": 28,
   "metadata": {},
   "outputs": [
    {
     "name": "stdout",
     "output_type": "stream",
     "text": [
      "      exchange symbol                               name\n",
      "0         NYSE      A               Agilent Technologies\n",
      "1         NYSE     AA                         Alcoa Corp\n",
      "2         NYSE    AAC         Ares Acquisition Corp Cl A\n",
      "3         NYSE    AAI    Arlington Asset Investment Corp\n",
      "4         NYSE   AAIN  Arlington Asset Investment Corp 6\n",
      "...        ...    ...                                ...\n",
      "19395    OTCBB  ZURVY      Zurich Insurance Group Ag ADR\n",
      "19396    OTCBB   ZVLO                          Esoft Inc\n",
      "19397    OTCBB  ZZHGF  Zhongan Online P & C Insurance Co\n",
      "19398    OTCBB   ZZLL    Zzll Information Technology Inc\n",
      "19399    OTCBB  ZZZOF             Zinc One Resources Inc\n",
      "\n",
      "[19400 rows x 3 columns]\n"
     ]
    }
   ],
   "source": []
  },
  {
   "cell_type": "code",
   "execution_count": 29,
   "metadata": {},
   "outputs": [
    {
     "name": "stdout",
     "output_type": "stream",
     "text": [
      "data/marketdata.db\n"
     ]
    }
   ],
   "source": []
  },
  {
   "cell_type": "code",
   "execution_count": 85,
   "metadata": {},
   "outputs": [],
   "source": [
    "\n",
    "from models.sqliteModels import _query_symbols\n",
    "\n",
    "\n",
    "def yield_symbols():\n",
    "    # table_name\n",
    "    data = _query_symbols()\n",
    "    symbols = [stock[0] for stock in data]\n",
    "    for symbol in symbols: yield symbol"
   ]
  },
  {
   "cell_type": "code",
   "execution_count": 86,
   "metadata": {},
   "outputs": [],
   "source": [
    "\n",
    "    stocks = yield_symbols(db_path)"
   ]
  },
  {
   "cell_type": "code",
   "execution_count": 87,
   "metadata": {},
   "outputs": [],
   "source": [
    "def get_next_stock(stock:list):\n",
    "    \"\"\"\n",
    "    :param stocks: list of stocks to yield, one at a time, so that \n",
    "    the other functions can execute their processes (getting price history, \n",
    "    quote data, fundamentals, and perform technical analysis)\n",
    "    \"\"\"\n",
    "    symbol = next(stock)\n",
    "    print(symbol)"
   ]
  },
  {
   "cell_type": "code",
   "execution_count": null,
   "metadata": {},
   "outputs": [],
   "source": []
  },
  {
   "cell_type": "code",
   "execution_count": null,
   "metadata": {},
   "outputs": [],
   "source": [
    "# create the quote_df to pass to the already created functions\n",
    "print(f\"[1.3] Retrieve data from DataFrame's symbol column\")\n",
    "_stocks = companies_df[\"symbol\"]\n",
    "\n",
    "# #####################################################################\n",
    "# CREATE COMPANIES LIST:\n",
    "#####################################################################\n",
    "# --->[6] Create Chunked list\n",
    "stock_chunks = list(get.chunks(list(set(_stocks)), 200))\n",
    "\n",
    "# Give quote and fundamental data an variable to save to:\n",
    "# Get Quote Data\n",
    "print(\"[3] Retrieve Quote and Fundamental data..\")\n",
    "quote_data = pd.concat([get.quotes(each) for each in stock_chunks])\n",
    "print(\"[3.1] Quote Data Retrieved\")\n",
    "\n",
    "# Get Fundamental Data\n",
    "fundamental_data = pd.concat([get.fundamentals(each)\n",
    "                              for each in stock_chunks])\n",
    "print(\"[3.2] Fundamental Data Retrieved\")\n",
    "\n",
    "print(\"[4] Insert Quote and Fundamental Data\")\n",
    "# Insert the fundamental and quote data to the database:\n",
    "insert_quote_and_fundamental_data(quote_data=quote_data,\n",
    "                                  fundamental_data=fundamental_data, db=db)\n",
    "\n",
    "# print(quote_data)\n"
   ]
  }
 ],
 "metadata": {
  "interpreter": {
   "hash": "33f8b86f6ea24104ebb24fd2073e650abb80fd24594e896fe068d7ba286468e3"
  },
  "kernelspec": {
   "display_name": "Python 3.8.10 ('mlenv')",
   "language": "python",
   "name": "python3"
  },
  "language_info": {
   "codemirror_mode": {
    "name": "ipython",
    "version": 3
   },
   "file_extension": ".py",
   "mimetype": "text/x-python",
   "name": "python",
   "nbconvert_exporter": "python",
   "pygments_lexer": "ipython3",
   "version": "3.8.10"
  },
  "orig_nbformat": 4
 },
 "nbformat": 4,
 "nbformat_minor": 2
}
