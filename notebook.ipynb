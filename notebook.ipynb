{
 "cells": [
  {
   "cell_type": "code",
   "execution_count": 42,
   "metadata": {},
   "outputs": [],
   "source": [
    "# This notebook will be to create a stock screener\n",
    "\n",
    "from config.secrets import MYSQL_HOST, MYSQL_PORT, MYSQL_PASSWORD, MYSQL_USER, MYSQL_MARKET_DB, MYSQL_PRICEHISTORY_DB\n",
    "import mysql.connector as mysql\n",
    "from mysql.connector import Error\n",
    "import requests, os\n",
    "import pandas as pd\n",
    "import numpy as np\n",
    "from loguru import logger\n",
    "import yfinance as yf"
   ]
  },
  {
   "cell_type": "code",
   "execution_count": 43,
   "metadata": {},
   "outputs": [
    {
     "data": {
      "text/plain": [
       "4"
      ]
     },
     "execution_count": 43,
     "metadata": {},
     "output_type": "execute_result"
    }
   ],
   "source": [
    "# =============================================================================== #\n",
    "# CREATE THE LOGGER FOR THIS SCRIPT:\n",
    "# =============================================================================== #\n",
    "log_path = str(os.path.pardir) + '/logs/'\n",
    "base_fmt = \"[{time:YYYY-MM-DD at HH:mm:ss}]|[{name}-<lvl>{message}</lvl>]\"\n",
    "logger.add(log_path+\"main.log\", rotation=\"2 MB\", colorize=True, enqueue=True, catch=True)"
   ]
  },
  {
   "cell_type": "code",
   "execution_count": 48,
   "metadata": {},
   "outputs": [],
   "source": [
    "# Just incase I decide to use the RapidAPI yahoo api to get the balance sheet data \n",
    "# I kept the information in here\n",
    "\n",
    "rapidAPI_yahoo_headers = {\n",
    "\t\t\"content-type\": \"application/x-www-form-urlencoded\",\n",
    "\t\t\"X-RapidAPI-Key\": \"292e5f6756msh0abb3103cb293b6p189764jsn96d2fc366bde\",\n",
    "\t\t\"X-RapidAPI-Host\": \"yahoo-finance97.p.rapidapi.com\"\n",
    "\t}\n",
    "\n",
    "url = \"https://yahoo-finance97.p.rapidapi.com/financials\"\n",
    "\n",
    "config = {\n",
    "\t'host': MYSQL_HOST,\n",
    "\t'port': MYSQL_PORT,\n",
    "\t'database': MYSQL_MARKET_DB,\n",
    "\t'user': 'root',\n",
    "\t'password': MYSQL_PASSWORD,\n",
    "\t'use_unicode': True,\n",
    "\t'get_warnings': True,\n",
    "}"
   ]
  },
  {
   "cell_type": "code",
   "execution_count": 52,
   "metadata": {},
   "outputs": [
    {
     "data": {
      "text/plain": [
       "'MZMfib112358!'"
      ]
     },
     "execution_count": 52,
     "metadata": {},
     "output_type": "execute_result"
    }
   ],
   "source": [
    "MYSQL_PASSWORD"
   ]
  },
  {
   "cell_type": "code",
   "execution_count": 50,
   "metadata": {},
   "outputs": [],
   "source": [
    "def _select_symbols(config:dict):\n",
    "    \"\"\"Selects rows from table. Give DB name, table name, and\n",
    "    num of rows to select and display\"\"\"\n",
    "    table = 'companies'\n",
    "    query_symbols = f\"SELECT symbol FROM {table}\"\n",
    "    try:\n",
    "        symbols = []\n",
    "        with mysql.connect(**config) as conn:\n",
    "            with conn.cursor() as cursor:\n",
    "                cursor.execute(query_symbols)\n",
    "                result = cursor.fetchall()\n",
    "                for row in result:\n",
    "                    symbols.append(row[0])\n",
    "        return symbols\n",
    "    except Error as e:\n",
    "        logger.error(\"[-] Error {} occured\", e)\n"
   ]
  },
  {
   "cell_type": "code",
   "execution_count": 51,
   "metadata": {},
   "outputs": [
    {
     "name": "stderr",
     "output_type": "stream",
     "text": [
      "2022-08-13 12:22:24.581 | ERROR    | __main__:_select_symbols:16 - [-] Error 1045 (28000): Access denied for user 'root'@'localhost' (using password: YES) occured\n"
     ]
    }
   ],
   "source": [
    "symbols = _select_symbols(config)"
   ]
  },
  {
   "cell_type": "code",
   "execution_count": null,
   "metadata": {},
   "outputs": [],
   "source": []
  }
 ],
 "metadata": {
  "kernelspec": {
   "display_name": "Python 3.9.7 ('.venv': venv)",
   "language": "python",
   "name": "python3"
  },
  "language_info": {
   "codemirror_mode": {
    "name": "ipython",
    "version": 3
   },
   "file_extension": ".py",
   "mimetype": "text/x-python",
   "name": "python",
   "nbconvert_exporter": "python",
   "pygments_lexer": "ipython3",
   "version": "3.9.7"
  },
  "orig_nbformat": 4,
  "vscode": {
   "interpreter": {
    "hash": "ae27fe2969e733776b8f26f581776df4b840d743d49425d153e4103e9017f7fd"
   }
  }
 },
 "nbformat": 4,
 "nbformat_minor": 2
}
