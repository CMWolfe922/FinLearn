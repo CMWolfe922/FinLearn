{
 "cells": [
  {
   "cell_type": "code",
   "execution_count": 15,
   "metadata": {},
   "outputs": [],
   "source": [
    "from cv2 import AGAST_FEATURE_DETECTOR_AGAST_5_8\n",
    "from src.getter import Get\n",
    "from models.sqliteModels import _insert_companies\n",
    "import os\n",
    "\n",
    "# create a Get object\n",
    "get = Get()\n",
    "\n",
    "# run if name == main script\n",
    "df = get.companies_df\n",
    "\n"
   ]
  },
  {
   "cell_type": "code",
   "execution_count": 16,
   "metadata": {},
   "outputs": [
    {
     "name": "stdout",
     "output_type": "stream",
     "text": [
      "<bound method Get.companies_df of <src.getter.Get object at 0x000001A86078B0D0>>\n"
     ]
    }
   ],
   "source": [
    "print(df)"
   ]
  },
  {
   "cell_type": "code",
   "execution_count": 10,
   "metadata": {},
   "outputs": [],
   "source": [
    "\n",
    "from models.sqliteModels import _query_symbols\n",
    "\n",
    "\n",
    "def yield_symbols():\n",
    "    # database name\n",
    "    mkt_db = \"marketdata.db\"\n",
    "    # table_name\n",
    "    table_name = \"companies\"\n",
    "    symbols = _query_symbols(mkt_db, table_name)\n",
    "    \n",
    "    yield symbols"
   ]
  },
  {
   "cell_type": "code",
   "execution_count": 11,
   "metadata": {},
   "outputs": [],
   "source": [
    "\n",
    "    stocks = yield_symbols()"
   ]
  },
  {
   "cell_type": "code",
   "execution_count": 12,
   "metadata": {},
   "outputs": [],
   "source": [
    "def get_stock(stock:list):\n",
    "    \"\"\"\n",
    "    :param stocks: list of stocks to yield, one at a time, so that \n",
    "    the other functions can execute their processes (getting price history, \n",
    "    quote data, fundamentals, and perform technical analysis)\n",
    "    \"\"\"\n",
    "    symbol = next(stock)\n",
    "    print(symbol)"
   ]
  },
  {
   "cell_type": "code",
   "execution_count": 13,
   "metadata": {},
   "outputs": [
    {
     "name": "stdout",
     "output_type": "stream",
     "text": [
      "None\n"
     ]
    }
   ],
   "source": [
    "get_stock(stocks)"
   ]
  },
  {
   "cell_type": "code",
   "execution_count": 14,
   "metadata": {},
   "outputs": [
    {
     "ename": "StopIteration",
     "evalue": "",
     "output_type": "error",
     "traceback": [
      "\u001b[1;31m---------------------------------------------------------------------------\u001b[0m",
      "\u001b[1;31mStopIteration\u001b[0m                             Traceback (most recent call last)",
      "\u001b[1;32mc:\\Users\\charl\\OneDrive\\dev\\source\\finlearn\\notebook.ipynb Cell 7'\u001b[0m in \u001b[0;36m<cell line: 1>\u001b[1;34m()\u001b[0m\n\u001b[1;32m----> <a href='vscode-notebook-cell:/c%3A/Users/charl/OneDrive/dev/source/finlearn/notebook.ipynb#ch0000006?line=0'>1</a>\u001b[0m get_stock(stocks)\n",
      "\u001b[1;32mc:\\Users\\charl\\OneDrive\\dev\\source\\finlearn\\notebook.ipynb Cell 5'\u001b[0m in \u001b[0;36mget_stock\u001b[1;34m(stock)\u001b[0m\n\u001b[0;32m      <a href='vscode-notebook-cell:/c%3A/Users/charl/OneDrive/dev/source/finlearn/notebook.ipynb#ch0000004?line=0'>1</a>\u001b[0m \u001b[39mdef\u001b[39;00m \u001b[39mget_stock\u001b[39m(stock:\u001b[39mlist\u001b[39m):\n\u001b[0;32m      <a href='vscode-notebook-cell:/c%3A/Users/charl/OneDrive/dev/source/finlearn/notebook.ipynb#ch0000004?line=1'>2</a>\u001b[0m     \u001b[39m\"\"\"\u001b[39;00m\n\u001b[0;32m      <a href='vscode-notebook-cell:/c%3A/Users/charl/OneDrive/dev/source/finlearn/notebook.ipynb#ch0000004?line=2'>3</a>\u001b[0m \u001b[39m    :param stocks: list of stocks to yield, one at a time, so that \u001b[39;00m\n\u001b[0;32m      <a href='vscode-notebook-cell:/c%3A/Users/charl/OneDrive/dev/source/finlearn/notebook.ipynb#ch0000004?line=3'>4</a>\u001b[0m \u001b[39m    the other functions can execute their processes (getting price history, \u001b[39;00m\n\u001b[0;32m      <a href='vscode-notebook-cell:/c%3A/Users/charl/OneDrive/dev/source/finlearn/notebook.ipynb#ch0000004?line=4'>5</a>\u001b[0m \u001b[39m    quote data, fundamentals, and perform technical analysis)\u001b[39;00m\n\u001b[0;32m      <a href='vscode-notebook-cell:/c%3A/Users/charl/OneDrive/dev/source/finlearn/notebook.ipynb#ch0000004?line=5'>6</a>\u001b[0m \u001b[39m    \"\"\"\u001b[39;00m\n\u001b[1;32m----> <a href='vscode-notebook-cell:/c%3A/Users/charl/OneDrive/dev/source/finlearn/notebook.ipynb#ch0000004?line=6'>7</a>\u001b[0m     symbol \u001b[39m=\u001b[39m \u001b[39mnext\u001b[39;49m(stock)\n\u001b[0;32m      <a href='vscode-notebook-cell:/c%3A/Users/charl/OneDrive/dev/source/finlearn/notebook.ipynb#ch0000004?line=7'>8</a>\u001b[0m     \u001b[39mprint\u001b[39m(symbol)\n",
      "\u001b[1;31mStopIteration\u001b[0m: "
     ]
    }
   ],
   "source": [
    "get_stock(stocks)"
   ]
  },
  {
   "cell_type": "code",
   "execution_count": null,
   "metadata": {},
   "outputs": [],
   "source": []
  }
 ],
 "metadata": {
  "interpreter": {
   "hash": "33f8b86f6ea24104ebb24fd2073e650abb80fd24594e896fe068d7ba286468e3"
  },
  "kernelspec": {
   "display_name": "Python 3.8.10 ('mlenv')",
   "language": "python",
   "name": "python3"
  },
  "language_info": {
   "codemirror_mode": {
    "name": "ipython",
    "version": 3
   },
   "file_extension": ".py",
   "mimetype": "text/x-python",
   "name": "python",
   "nbconvert_exporter": "python",
   "pygments_lexer": "ipython3",
   "version": "3.8.10"
  },
  "orig_nbformat": 4
 },
 "nbformat": 4,
 "nbformat_minor": 2
}
