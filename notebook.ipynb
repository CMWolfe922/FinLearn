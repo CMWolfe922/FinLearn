{
 "cells": [
  {
   "cell_type": "code",
   "execution_count": 1,
   "metadata": {},
   "outputs": [],
   "source": [
    "from cv2 import AGAST_FEATURE_DETECTOR_AGAST_5_8\n",
    "from src.getter import Get\n",
    "from models.sqliteModels import _insert_companies\n",
    "import os\n",
    "\n",
    "# create a Get object\n",
    "get = Get()\n",
    "\n",
    "# run if name == main script\n",
    "df = get.companies_df\n",
    "\n"
   ]
  },
  {
   "cell_type": "code",
   "execution_count": 2,
   "metadata": {},
   "outputs": [
    {
     "name": "stdout",
     "output_type": "stream",
     "text": [
      "<bound method Get.companies_df of <src.getter.Get object at 0x000002015A2AA730>>\n"
     ]
    }
   ],
   "source": [
    "print(df)"
   ]
  },
  {
   "cell_type": "code",
   "execution_count": 3,
   "metadata": {},
   "outputs": [
    {
     "name": "stdout",
     "output_type": "stream",
     "text": [
      "[1.1.1] Create new database data\\marketdata.db.. \n"
     ]
    },
    {
     "ename": "AttributeError",
     "evalue": "'function' object has no attribute 'to_sql'",
     "output_type": "error",
     "traceback": [
      "\u001b[1;31m---------------------------------------------------------------------------\u001b[0m",
      "\u001b[1;31mAttributeError\u001b[0m                            Traceback (most recent call last)",
      "\u001b[1;32mc:\\Users\\charl\\OneDrive\\dev\\source\\finlearn\\notebook.ipynb Cell 3'\u001b[0m in \u001b[0;36m<cell line: 1>\u001b[1;34m()\u001b[0m\n\u001b[1;32m----> <a href='vscode-notebook-cell:/c%3A/Users/charl/OneDrive/dev/source/finlearn/notebook.ipynb#ch0000002?line=0'>1</a>\u001b[0m _insert_companies(df)\n",
      "File \u001b[1;32mc:\\Users\\charl\\OneDrive\\dev\\source\\finlearn\\models\\sqliteModels.py:33\u001b[0m, in \u001b[0;36m_insert_companies\u001b[1;34m(company_df, db_name, table_name)\u001b[0m\n\u001b[0;32m     <a href='file:///c%3A/Users/charl/OneDrive/dev/source/finlearn/models/sqliteModels.py?line=30'>31</a>\u001b[0m \u001b[39mprint\u001b[39m(\u001b[39mf\u001b[39m\u001b[39m\"\u001b[39m\u001b[39m[1.1.1] Create new database \u001b[39m\u001b[39m{\u001b[39;00mdb\u001b[39m}\u001b[39;00m\u001b[39m.. \u001b[39m\u001b[39m\"\u001b[39m)\n\u001b[0;32m     <a href='file:///c%3A/Users/charl/OneDrive/dev/source/finlearn/models/sqliteModels.py?line=31'>32</a>\u001b[0m conn \u001b[39m=\u001b[39m sql\u001b[39m.\u001b[39mconnect(db)  \u001b[39m# create database\u001b[39;00m\n\u001b[1;32m---> <a href='file:///c%3A/Users/charl/OneDrive/dev/source/finlearn/models/sqliteModels.py?line=32'>33</a>\u001b[0m df\u001b[39m.\u001b[39;49mto_sql(name\u001b[39m=\u001b[39mtable, con\u001b[39m=\u001b[39mconn, if_exists\u001b[39m=\u001b[39m\u001b[39m\"\u001b[39m\u001b[39mreplace\u001b[39m\u001b[39m\"\u001b[39m, index\u001b[39m=\u001b[39m\u001b[39mTrue\u001b[39;00m)\n\u001b[0;32m     <a href='file:///c%3A/Users/charl/OneDrive/dev/source/finlearn/models/sqliteModels.py?line=33'>34</a>\u001b[0m conn\u001b[39m.\u001b[39mclose()\n\u001b[0;32m     <a href='file:///c%3A/Users/charl/OneDrive/dev/source/finlearn/models/sqliteModels.py?line=34'>35</a>\u001b[0m \u001b[39mprint\u001b[39m(\u001b[39mf\u001b[39m\u001b[39m\"\u001b[39m\u001b[39m[1.1.2] Insert data to \u001b[39m\u001b[39m{\u001b[39;00mtable\u001b[39m}\u001b[39;00m\u001b[39m table in \u001b[39m\u001b[39m{\u001b[39;00mdb\u001b[39m}\u001b[39;00m\u001b[39m.. \u001b[39m\u001b[39m\"\u001b[39m)\n",
      "\u001b[1;31mAttributeError\u001b[0m: 'function' object has no attribute 'to_sql'"
     ]
    }
   ],
   "source": [
    "_insert_companies(df)\n"
   ]
  }
 ],
 "metadata": {
  "interpreter": {
   "hash": "33f8b86f6ea24104ebb24fd2073e650abb80fd24594e896fe068d7ba286468e3"
  },
  "kernelspec": {
   "display_name": "Python 3.8.10 ('mlenv')",
   "language": "python",
   "name": "python3"
  },
  "language_info": {
   "codemirror_mode": {
    "name": "ipython",
    "version": 3
   },
   "file_extension": ".py",
   "mimetype": "text/x-python",
   "name": "python",
   "nbconvert_exporter": "python",
   "pygments_lexer": "ipython3",
   "version": "3.8.10"
  },
  "orig_nbformat": 4
 },
 "nbformat": 4,
 "nbformat_minor": 2
}
