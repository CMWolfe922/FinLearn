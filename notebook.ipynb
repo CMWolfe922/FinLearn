{
 "cells": [
  {
   "cell_type": "code",
   "execution_count": 1,
   "metadata": {},
   "outputs": [
    {
     "ename": "ImportError",
     "evalue": "cannot import name 'create_pricehistory_engine' from 'models.mysql_db' (c:\\Users\\charl\\OneDrive\\dev\\source\\finlearn\\models\\mysql_db.py)",
     "output_type": "error",
     "traceback": [
      "\u001b[1;31m---------------------------------------------------------------------------\u001b[0m",
      "\u001b[1;31mImportError\u001b[0m                               Traceback (most recent call last)",
      "\u001b[1;32mc:\\Users\\charl\\OneDrive\\dev\\source\\finlearn\\notebook.ipynb Cell 1'\u001b[0m in \u001b[0;36m<cell line: 3>\u001b[1;34m()\u001b[0m\n\u001b[0;32m      <a href='vscode-notebook-cell:/c%3A/Users/charl/OneDrive/dev/source/finlearn/notebook.ipynb#ch0000000?line=0'>1</a>\u001b[0m \u001b[39mfrom\u001b[39;00m \u001b[39mmodels\u001b[39;00m\u001b[39m.\u001b[39;00m\u001b[39mmysql_db\u001b[39;00m \u001b[39mimport\u001b[39;00m generate_symbols\n\u001b[0;32m      <a href='vscode-notebook-cell:/c%3A/Users/charl/OneDrive/dev/source/finlearn/notebook.ipynb#ch0000000?line=1'>2</a>\u001b[0m \u001b[39mfrom\u001b[39;00m \u001b[39mmodels\u001b[39;00m\u001b[39m.\u001b[39;00m\u001b[39msqliteModels\u001b[39;00m \u001b[39mimport\u001b[39;00m insert_price_data\n\u001b[1;32m----> <a href='vscode-notebook-cell:/c%3A/Users/charl/OneDrive/dev/source/finlearn/notebook.ipynb#ch0000000?line=2'>3</a>\u001b[0m \u001b[39mfrom\u001b[39;00m \u001b[39msrc\u001b[39;00m\u001b[39m.\u001b[39;00m\u001b[39mpricehistory\u001b[39;00m \u001b[39mimport\u001b[39;00m price_history\n",
      "File \u001b[1;32mc:\\Users\\charl\\OneDrive\\dev\\source\\finlearn\\src\\pricehistory.py:8\u001b[0m, in \u001b[0;36m<module>\u001b[1;34m\u001b[0m\n\u001b[0;32m      <a href='file:///c%3A/Users/charl/OneDrive/dev/source/finlearn/src/pricehistory.py?line=5'>6</a>\u001b[0m \u001b[39mimport\u001b[39;00m \u001b[39mrequests\u001b[39;00m\n\u001b[0;32m      <a href='file:///c%3A/Users/charl/OneDrive/dev/source/finlearn/src/pricehistory.py?line=6'>7</a>\u001b[0m \u001b[39mimport\u001b[39;00m \u001b[39mpandas\u001b[39;00m \u001b[39mas\u001b[39;00m \u001b[39mpd\u001b[39;00m\n\u001b[1;32m----> <a href='file:///c%3A/Users/charl/OneDrive/dev/source/finlearn/src/pricehistory.py?line=7'>8</a>\u001b[0m \u001b[39mfrom\u001b[39;00m \u001b[39mmodels\u001b[39;00m\u001b[39m.\u001b[39;00m\u001b[39mmysql_db\u001b[39;00m \u001b[39mimport\u001b[39;00m create_pricehistory_engine\n\u001b[0;32m     <a href='file:///c%3A/Users/charl/OneDrive/dev/source/finlearn/src/pricehistory.py?line=9'>10</a>\u001b[0m \u001b[39m\"\"\"\u001b[39;00m\n\u001b[0;32m     <a href='file:///c%3A/Users/charl/OneDrive/dev/source/finlearn/src/pricehistory.py?line=10'>11</a>\u001b[0m \u001b[39m=================================================================================\u001b[39;00m\n\u001b[0;32m     <a href='file:///c%3A/Users/charl/OneDrive/dev/source/finlearn/src/pricehistory.py?line=11'>12</a>\u001b[0m \u001b[39mTHE PRICE HISTORY CLASS|\u001b[39;00m\n\u001b[1;32m   (...)\u001b[0m\n\u001b[0;32m     <a href='file:///c%3A/Users/charl/OneDrive/dev/source/finlearn/src/pricehistory.py?line=25'>26</a>\u001b[0m \u001b[39m=================================================================================\u001b[39;00m\n\u001b[0;32m     <a href='file:///c%3A/Users/charl/OneDrive/dev/source/finlearn/src/pricehistory.py?line=26'>27</a>\u001b[0m \u001b[39m\"\"\"\u001b[39;00m\n\u001b[0;32m     <a href='file:///c%3A/Users/charl/OneDrive/dev/source/finlearn/src/pricehistory.py?line=29'>30</a>\u001b[0m \u001b[39mclass\u001b[39;00m \u001b[39mPriceHistory\u001b[39;00m:\n",
      "\u001b[1;31mImportError\u001b[0m: cannot import name 'create_pricehistory_engine' from 'models.mysql_db' (c:\\Users\\charl\\OneDrive\\dev\\source\\finlearn\\models\\mysql_db.py)"
     ]
    }
   ],
   "source": [
    "from models.mysql_db import generate_symbols\n",
    "from models.sqliteModels import insert_price_data\n",
    "from src.pricehistory import price_history"
   ]
  },
  {
   "cell_type": "code",
   "execution_count": null,
   "metadata": {},
   "outputs": [],
   "source": []
  }
 ],
 "metadata": {
  "interpreter": {
   "hash": "33f8b86f6ea24104ebb24fd2073e650abb80fd24594e896fe068d7ba286468e3"
  },
  "kernelspec": {
   "display_name": "Python 3.8.10 ('mlenv')",
   "language": "python",
   "name": "python3"
  },
  "language_info": {
   "codemirror_mode": {
    "name": "ipython",
    "version": 3
   },
   "file_extension": ".py",
   "mimetype": "text/x-python",
   "name": "python",
   "nbconvert_exporter": "python",
   "pygments_lexer": "ipython3",
   "version": "3.8.10"
  },
  "orig_nbformat": 4
 },
 "nbformat": 4,
 "nbformat_minor": 2
}
