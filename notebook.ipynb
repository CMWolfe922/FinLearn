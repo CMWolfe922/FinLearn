{
 "cells": [
  {
   "cell_type": "code",
   "execution_count": 8,
   "metadata": {},
   "outputs": [],
   "source": [
    "# PRICE HISTORY SCRIPT\n",
    "# This script is responsible for getting the price\n",
    "# history of any symbol passed to the constructor\n",
    "from src.urls import TDA_BASE\n",
    "from config.secrets import TDA_APIKEY, PERIOD, PERIODTYPE, FREQUENCY, FREQUENCYTYPE\n",
    "import requests\n",
    "import multiprocessing\n",
    "import pandas as pd\n",
    "from models.mysql_db import create_pricehistory_engine, generate_symbols, _select_symbols\n",
    "from loguru import logger\n",
    "import os.path\n",
    "import time"
   ]
  },
  {
   "cell_type": "code",
   "execution_count": 9,
   "metadata": {},
   "outputs": [
    {
     "data": {
      "text/plain": [
       "3"
      ]
     },
     "execution_count": 9,
     "metadata": {},
     "output_type": "execute_result"
    }
   ],
   "source": [
    "# CREATE THE LOGGER FOR THIS SCRIPT:\n",
    "log_path = str(os.path.curdir) + '/logs/'\n",
    "base_fmt = \"[{time:YYYY-MM-DD at HH:mm:ss}]|[{name}-<lvl>{message}</lvl>]\"\n",
    "logger.add(log_path+\"pricehistory.log\", format=base_fmt, level=\"DEBUG\", rotation=\"20 MB\",\n",
    "           colorize=True, enqueue=True, catch=True)"
   ]
  },
  {
   "cell_type": "code",
   "execution_count": 10,
   "metadata": {},
   "outputs": [
    {
     "data": {
      "text/plain": [
       "\"\\n=================================================================================\\nTHE PRICE HISTORY CLASS|\\n-----------------------+\\nThis will be responsible for getting the price history for every symbol\\nstored in the database. Using a generator function in the models.mysql_db\\nscript, I will be able to generate one symbol at a time and then execute\\nthe insert_price_data() method.\\n\\nI am going to try two different approaches. First, I will try the map()\\nfunction to see if it can handle executing the function on that long of\\na list.\\n\\nIf that doesn't work, I will try to utilize the generator function to\\ngenerate one symbol at a time and only execute the insert method one\\nstock at a time.\\n=================================================================================\\n\""
      ]
     },
     "execution_count": 10,
     "metadata": {},
     "output_type": "execute_result"
    }
   ],
   "source": [
    "\"\"\"\n",
    "=================================================================================\n",
    "THE PRICE HISTORY CLASS|\n",
    "-----------------------+\n",
    "This will be responsible for getting the price history for every symbol\n",
    "stored in the database. Using a generator function in the models.mysql_db\n",
    "script, I will be able to generate one symbol at a time and then execute\n",
    "the insert_price_data() method.\n",
    "\n",
    "I am going to try two different approaches. First, I will try the map()\n",
    "function to see if it can handle executing the function on that long of\n",
    "a list.\n",
    "\n",
    "If that doesn't work, I will try to utilize the generator function to\n",
    "generate one symbol at a time and only execute the insert method one\n",
    "stock at a time.\n",
    "=================================================================================\n",
    "\"\"\""
   ]
  },
  {
   "cell_type": "code",
   "execution_count": 11,
   "metadata": {},
   "outputs": [],
   "source": [
    "class PriceHistory:\n",
    "\n",
    "    def __init__(self, **params):\n",
    "        self.params = params  # params are set at bottom, imported from config.ini file\n",
    "        self.table_name = self._set_table_name()\n",
    "        self.pricehistory_engine = create_pricehistory_engine()\n",
    "\n",
    "    def _set_table_name(self):\n",
    "        \"\"\"\n",
    "        Simple way to set the name of the table to save the price data to\n",
    "        dynamically. This way no matter what the params are, the data will\n",
    "        be saved to correct table.\n",
    "        \"\"\"\n",
    "        if int(FREQUENCY) > 1:\n",
    "            name = f\"_{FREQUENCY}_{FREQUENCYTYPE}_data\"\n",
    "            logger.info(\"[+] Storing Pricehistory data to table: {}\", name)\n",
    "            return name\n",
    "        else:\n",
    "            name = f\"one_{FREQUENCYTYPE}_data\"\n",
    "            logger.info(\"[+] Storing Pricehistory data to table: {}\", name)\n",
    "            return name\n",
    "\n",
    "    def data(self, stock):\n",
    "        \"\"\"\n",
    "        :param symbol: company symbol/ticker\n",
    "        :Example: MSFT 10 day minute 10\n",
    "\n",
    "        :returns:\n",
    "        raw json data (Open, High, Low, close, Volume, and Time (epoch time))\n",
    "        \"\"\"\n",
    "        url = TDA_BASE + f\"marketdata/{stock}/pricehistory\"\n",
    "\n",
    "        params = {\n",
    "            'period': self.params['params']['period'],\n",
    "            'periodType': self.params['params']['periodType'],\n",
    "            'frequency': self.params['params']['frequency'],\n",
    "            'frequencyType': self.params['params']['frequencyType'],\n",
    "        }\n",
    "\n",
    "        # Other users will need their own TD Ameritrade API Key\n",
    "        params.update({\"apikey\": TDA_APIKEY})\n",
    "\n",
    "        # request price history data\n",
    "        req = requests.get(url, params=params).json()\n",
    "\n",
    "        candles = dict(req)  # turn candles into a dict() type\n",
    "        extracted_candles_list = candles[\"candles\"]\n",
    "        symbol = candles[\"symbol\"]  # symbol of the compan's price data\n",
    "\n",
    "        # Create data frame from extracted data\n",
    "        df = pd.DataFrame.from_dict(extracted_candles_list, orient=\"columns\")\n",
    "        df.rename(columns={\"datetime\": \"unix\"}, inplace=True)\n",
    "        df[\"unix\"] = [x for x in df[\"unix\"] // 10 ** 3]\n",
    "\n",
    "        # This is to insert the companies symbol into the data frame\n",
    "        # in every row next to the unix_time so that I can identify\n",
    "        # who the data belongs to.\n",
    "        df[\"symbol\"] = symbol\n",
    "\n",
    "        return df\n",
    "\n",
    "    def insert_price_data(self, stock):\n",
    "        try:\n",
    "            data = self.data(stock)\n",
    "            table = self.table_name\n",
    "            engine = self.pricehistory_engine\n",
    "            data.to_sql(name=table, con=engine,\n",
    "                        if_exists='append', index=False)\n",
    "            logger.info(\"{} inserted successfully!\", stock)\n",
    "        except Exception as e:\n",
    "            logger.error(\"Error Caused Due to {}\", e)\n",
    "            \n",
    "    def execute_data(self, stock):\n",
    "        \n",
    "        pass\n",
    "\n",
    "    def execute_main(self):\n",
    "        symbols = _select_symbols()\n",
    "        # symbol = generate_symbols()\n",
    "        pool = multiprocessing.Pool(processes=4)\n",
    "        try:\n",
    "            count = 0\n",
    "            while True:\n",
    "                try:\n",
    "                    # stock = next(symbol)\n",
    "                    # self.insert_price_data(stock)\n",
    "                    # logger.info(\"[{}]<green>Price History Data Inserted Successfully</green>\", stock)\n",
    "                    logger.info(\"[<green>Price History Map Function Started</green>]\")\n",
    "                    pool.map(self.insert_price_data, symbols)\n",
    "                    count += 1\n",
    "                except KeyError as ke:\n",
    "                    logger.error(\"Failed to insert: Due to {}\", ke)\n",
    "                    continue\n",
    "                except StopIteration as si:\n",
    "                    logger.info(\"{} No More Stocks to Get Data for\", si)\n",
    "                    continue\n",
    "        except ValueError as ve:\n",
    "            logger.error(\"Error Caused Due to {}\", ve)\n",
    "            if ve:\n",
    "                engine = self.pricehistory_engine\n",
    "                stmt = \"DROP TABLE IF EXISTS {table}\".format(self.table_name)\n",
    "                engine.execute(stmt)\n",
    "                logger.info(\"SQL Statement {} Executed...\", stmt)\n",
    "        except Exception as e:\n",
    "            logger.error(\"Error Caused Due to {}\", e)\n",
    "        finally:\n",
    "            logger.info(\"[{}] Stocks Inserted Successfully!\", count)"
   ]
  },
  {
   "cell_type": "code",
   "execution_count": 12,
   "metadata": {},
   "outputs": [],
   "source": [
    "class ProcessPricehistory(multiprocessing.Process):\n",
    "    \n",
    "    def __init__(self, task):\n",
    "        super(ProcessPricehistory, self).__init__()\n",
    "        self.task = task\n",
    "\n",
    "    def run(self):\n",
    "        # THIS WILL EXECUTE THE MAIN METHOD IN QUOTE USING MAP AND THREADED POOL PROCESSES:\n",
    "        pass"
   ]
  },
  {
   "cell_type": "code",
   "execution_count": 13,
   "metadata": {},
   "outputs": [],
   "source": [
    "params = {\n",
    "    'symbol': 'stock',\n",
    "    'period': PERIOD,\n",
    "    'periodType': PERIODTYPE,\n",
    "    'frequency': FREQUENCY,\n",
    "    'frequencyType': FREQUENCYTYPE,\n",
    "}"
   ]
  },
  {
   "cell_type": "code",
   "execution_count": 14,
   "metadata": {},
   "outputs": [
    {
     "name": "stderr",
     "output_type": "stream",
     "text": [
      "2022-05-15 00:06:01.862 | INFO     | __main__:_set_table_name:20 - [+] Storing Pricehistory data to table: one_minute_data\n",
      "2022-05-15 00:06:01.864 | INFO     | models.mysql_db:create_pricehistory_engine:33 - [+] pricehistory database engine created successfully\n",
      "2022-05-15 00:06:01.866 | INFO     | __main__:<cell line: 2>:2 - PriceHistory Object Initialized: Table one_minute_data created\n"
     ]
    }
   ],
   "source": [
    "price_history = PriceHistory(params=params)\n",
    "logger.info(\n",
    "    \"PriceHistory Object Initialized: Table {} created\", price_history.table_name)\n"
   ]
  },
  {
   "cell_type": "code",
   "execution_count": 15,
   "metadata": {},
   "outputs": [
    {
     "name": "stderr",
     "output_type": "stream",
     "text": [
      "2022-05-15 00:06:04.009 | INFO     | __main__:execute_main:84 - [<green>Price History Map Function Started</green>]\n",
      "2022-05-15 00:06:04.012 | ERROR    | __main__:execute_main:101 - Error Caused Due to Can't pickle local object 'create_engine.<locals>.connect'\n",
      "2022-05-15 00:06:04.014 | INFO     | __main__:execute_main:103 - [0] Stocks Inserted Successfully!\n"
     ]
    }
   ],
   "source": [
    "price_history.execute_main()"
   ]
  },
  {
   "cell_type": "code",
   "execution_count": null,
   "metadata": {},
   "outputs": [],
   "source": []
  }
 ],
 "metadata": {
  "interpreter": {
   "hash": "740257c0656e5e215c694fcc67c8babcc423680e95ff929c26f641ec481bbb57"
  },
  "kernelspec": {
   "display_name": "Python 3.8.10 ('mlenv')",
   "language": "python",
   "name": "python3"
  },
  "language_info": {
   "codemirror_mode": {
    "name": "ipython",
    "version": 3
   },
   "file_extension": ".py",
   "mimetype": "text/x-python",
   "name": "python",
   "nbconvert_exporter": "python",
   "pygments_lexer": "ipython3",
   "version": "3.8.10"
  },
  "orig_nbformat": 4
 },
 "nbformat": 4,
 "nbformat_minor": 2
}
